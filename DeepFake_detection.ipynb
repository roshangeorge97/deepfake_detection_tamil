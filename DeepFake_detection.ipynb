{
  "cells": [
    {
      "cell_type": "code",
      "execution_count": null,
      "metadata": {
        "colab": {
          "base_uri": "https://localhost:8080/"
        },
        "id": "2jMtCpkZ50I-",
        "outputId": "f7485af5-42e3-47b2-ccbe-57a212282a3e"
      },
      "outputs": [
        {
          "name": "stdout",
          "output_type": "stream",
          "text": [
            "Mounted at /content/drive\n"
          ]
        }
      ],
      "source": [
        "from google.colab import drive\n",
        "drive.mount('/content/drive')"
      ]
    },
    {
      "cell_type": "markdown",
      "metadata": {
        "id": "Z8JVNFmZKXAP"
      },
      "source": [
        "MFCC Audio"
      ]
    },
    {
      "cell_type": "code",
      "execution_count": null,
      "metadata": {
        "colab": {
          "base_uri": "https://localhost:8080/"
        },
        "id": "eS9JaXv79sL9",
        "outputId": "d1605b80-f1cf-401b-ca55-ba0675266c32"
      },
      "outputs": [
        {
          "name": "stdout",
          "output_type": "stream",
          "text": [
            "Training data shape: (2297, 40, 500)\n",
            "Training labels shape: (2297,)\n"
          ]
        }
      ],
      "source": [
        "import os\n",
        "import numpy as np\n",
        "import librosa\n",
        "from sklearn.model_selection import train_test_split\n",
        "\n",
        "def preprocess_audio(audio_file_path, max_length=500):\n",
        "    try:\n",
        "\n",
        "        audio, _ = librosa.load(audio_file_path, sr=16000)\n",
        "        mfccs = librosa.feature.mfcc(y=audio, sr=16000, n_mfcc=40)\n",
        "        if mfccs.shape[1] < max_length:\n",
        "            mfccs = np.pad(mfccs, ((0, 0), (0, max_length - mfccs.shape[1])), mode='constant')\n",
        "        else:\n",
        "            mfccs = mfccs[:, :max_length]\n",
        "        mfccs_normalized = (mfccs - np.mean(mfccs)) / np.std(mfccs)\n",
        "        return mfccs_normalized\n",
        "    except Exception as e:\n",
        "        print(f\"Error encountered while processing file: {audio_file_path}\")\n",
        "        return None\n",
        "\n",
        "def load_data(directory):\n",
        "    data = []\n",
        "    labels = []\n",
        "    for label, folder in enumerate(['aug_real', 'aug_fake']):\n",
        "        folder_path = os.path.join(directory, folder)\n",
        "        for file in os.listdir(folder_path):\n",
        "            file_path = os.path.join(folder_path, file)\n",
        "            features = preprocess_audio(file_path)\n",
        "            if features is not None:\n",
        "                data.append(features)\n",
        "                labels.append(label)\n",
        "    return np.array(data), np.array(labels)\n",
        "\n"
      ]
    },
    {
      "cell_type": "markdown",
      "metadata": {
        "id": "tkgZy8fULMK6"
      },
      "source": [
        "MEL SPEC"
      ]
    },
    {
      "cell_type": "code",
      "execution_count": null,
      "metadata": {
        "colab": {
          "background_save": true
        },
        "id": "NzIiTHzNLPuT"
      },
      "outputs": [],
      "source": [
        "import os\n",
        "import numpy as np\n",
        "import librosa\n",
        "from sklearn.model_selection import train_test_split\n",
        "from sklearn.svm import SVC\n",
        "from sklearn.metrics import accuracy_score\n",
        "\n",
        "def preprocess_audio(audio_file_path, max_length=500):\n",
        "    try:\n",
        "        audio, _ = librosa.load(audio_file_path, sr=16000)\n",
        "        mel_spec = librosa.feature.melspectrogram(y=audio, sr=16000, n_mels=40)\n",
        "        mel_spec_db = librosa.power_to_db(mel_spec, ref=np.max)\n",
        "        mel_spec_resized = librosa.util.fix_length(mel_spec_db, size=max_length)\n",
        "        mel_spec_normalized = (mel_spec_resized - np.mean(mel_spec_resized)) / np.std(mel_spec_resized)\n",
        "        return mel_spec_normalized\n",
        "    except Exception as e:\n",
        "        print(f\"Error encountered while processing file: {audio_file_path}\")\n",
        "        return None\n",
        "\n",
        "def load_data(directory):\n",
        "    data = []\n",
        "    labels = []\n",
        "    for label, folder in enumerate(['aug_real', 'aug_fake']):\n",
        "        folder_path = os.path.join(directory, folder)\n",
        "        for file in os.listdir(folder_path):\n",
        "            file_path = os.path.join(folder_path, file)\n",
        "            features = preprocess_audio(file_path)\n",
        "            if features is not None:\n",
        "                data.append(features)\n",
        "                labels.append(label)\n",
        "    return np.array(data), np.array(labels)"
      ]
    },
    {
      "cell_type": "markdown",
      "metadata": {
        "id": "l5Ok65KzLaPE"
      },
      "source": [
        "Chroma STFT"
      ]
    },
    {
      "cell_type": "code",
      "execution_count": null,
      "metadata": {
        "id": "ZeknT_MSLfXN"
      },
      "outputs": [],
      "source": [
        "import os\n",
        "import numpy as np\n",
        "import librosa\n",
        "from sklearn.model_selection import train_test_split\n",
        "from sklearn.svm import SVC\n",
        "from sklearn.metrics import accuracy_score\n",
        "\n",
        "def preprocess_audio(audio_file_path, max_length=500):\n",
        "    try:\n",
        "        audio, _ = librosa.load(audio_file_path, sr=16000)\n",
        "        mel_spec = librosa.feature.chroma_stft(y=audio, sr=16000, n_chroma=40)\n",
        "        mel_spec_db = librosa.power_to_db(mel_spec, ref=np.max)\n",
        "        mel_spec_resized = librosa.util.fix_length(mel_spec_db, size=max_length)\n",
        "        mel_spec_normalized = (mel_spec_resized - np.mean(mel_spec_resized)) / np.std(mel_spec_resized)\n",
        "        return mel_spec_normalized\n",
        "    except Exception as e:\n",
        "        print(f\"Error encountered while processing file: {audio_file_path}\")\n",
        "        return None\n",
        "\n",
        "def load_data(directory):\n",
        "    data = []\n",
        "    labels = []\n",
        "    for label, folder in enumerate(['aug_real', 'aug_fake']):\n",
        "        folder_path = os.path.join(directory, folder)\n",
        "        for file in os.listdir(folder_path):\n",
        "            file_path = os.path.join(folder_path, file)\n",
        "            features = preprocess_audio(file_path)\n",
        "            if features is not None:\n",
        "                data.append(features)\n",
        "                labels.append(label)\n",
        "    return np.array(data), np.array(labels)"
      ]
    },
    {
      "cell_type": "markdown",
      "metadata": {
        "id": "WaAn7nCHK7D9"
      },
      "source": [
        "SVC"
      ]
    },
    {
      "cell_type": "code",
      "execution_count": null,
      "metadata": {
        "colab": {
          "background_save": true
        },
        "id": "i6TwPmVQKtJw"
      },
      "outputs": [],
      "source": [
        "from sklearn.svm import SVC\n",
        "from sklearn.decomposition import PCA\n",
        "from sklearn.metrics import classification_report\n",
        "from sklearn.model_selection import train_test_split\n",
        "\n",
        "dataset_dir = \"/content/drive/MyDrive/speech\"\n",
        "train_dir = os.path.join(dataset_dir)\n",
        "x_data, y_data = load_data(train_dir)\n",
        "\n"
      ]
    },
    {
      "cell_type": "code",
      "execution_count": null,
      "metadata": {
        "colab": {
          "base_uri": "https://localhost:8080/"
        },
        "id": "ho2b7ipAWXtZ",
        "outputId": "902401f0-448d-42f7-c7e3-25875ca99ba9"
      },
      "outputs": [
        {
          "name": "stdout",
          "output_type": "stream",
          "text": [
            "Support Vector Classifier Classification Report:\n",
            "              precision    recall  f1-score   support\n",
            "\n",
            "           0       0.83      0.83      0.83       232\n",
            "           1       0.83      0.82      0.83       228\n",
            "\n",
            "    accuracy                           0.83       460\n",
            "   macro avg       0.83      0.83      0.83       460\n",
            "weighted avg       0.83      0.83      0.83       460\n",
            "\n"
          ]
        }
      ],
      "source": [
        "# Split data into training and testing sets\n",
        "x_train, x_test, y_train, y_test = train_test_split(x_data, y_data, test_size=0.2, random_state=42)\n",
        "\n",
        "x_train_reshaped = x_train.reshape(x_train.shape[0], -1)\n",
        "x_test_reshaped = x_test.reshape(x_test.shape[0], -1)\n",
        "\n",
        "# Apply PCA to training and testing data\n",
        "pca = PCA(n_components=18)\n",
        "x_train_pca = pca.fit_transform(x_train_reshaped)\n",
        "x_test_pca = pca.transform(x_test_reshaped)\n",
        "svc = SVC(kernel='linear')\n",
        "svc.fit(x_train_pca, y_train)\n",
        "\n",
        "# Make predictions on the test set\n",
        "svc_pred = svc.predict(x_test_pca)\n",
        "\n",
        "# Calculate and print classification report\n",
        "report = classification_report(y_test, svc_pred)\n",
        "print(\"Support Vector Classifier Classification Report:\")\n",
        "print(report)"
      ]
    },
    {
      "cell_type": "markdown",
      "metadata": {
        "id": "MNOTpISpK4NH"
      },
      "source": [
        "CNN-LSTM"
      ]
    },
    {
      "cell_type": "code",
      "execution_count": null,
      "metadata": {
        "colab": {
          "base_uri": "https://localhost:8080/"
        },
        "id": "Jyw-mH8XDIdU",
        "outputId": "0a96060d-f680-4fae-f80d-0dec96511dd7"
      },
      "outputs": [
        {
          "name": "stdout",
          "output_type": "stream",
          "text": [
            "Epoch 1/10\n",
            "58/58 [==============================] - 8s 58ms/step - loss: 0.6902 - accuracy: 0.5259 - val_loss: 0.6744 - val_accuracy: 0.5326\n",
            "Epoch 2/10\n",
            "58/58 [==============================] - 3s 43ms/step - loss: 0.5520 - accuracy: 0.7153 - val_loss: 0.4768 - val_accuracy: 0.7957\n",
            "Epoch 3/10\n",
            "58/58 [==============================] - 2s 28ms/step - loss: 0.3700 - accuracy: 0.8541 - val_loss: 0.3983 - val_accuracy: 0.8152\n",
            "Epoch 4/10\n",
            "58/58 [==============================] - 2s 29ms/step - loss: 0.3259 - accuracy: 0.8710 - val_loss: 0.3415 - val_accuracy: 0.8522\n",
            "Epoch 5/10\n",
            "58/58 [==============================] - 2s 28ms/step - loss: 0.2907 - accuracy: 0.8862 - val_loss: 0.3077 - val_accuracy: 0.8630\n",
            "Epoch 6/10\n",
            "58/58 [==============================] - 2s 28ms/step - loss: 0.2344 - accuracy: 0.8993 - val_loss: 0.3236 - val_accuracy: 0.8457\n",
            "Epoch 7/10\n",
            "58/58 [==============================] - 2s 28ms/step - loss: 0.1919 - accuracy: 0.9211 - val_loss: 0.3214 - val_accuracy: 0.8717\n",
            "Epoch 8/10\n",
            "58/58 [==============================] - 2s 28ms/step - loss: 0.1830 - accuracy: 0.9271 - val_loss: 0.3045 - val_accuracy: 0.8804\n",
            "Epoch 9/10\n",
            "58/58 [==============================] - 3s 46ms/step - loss: 0.1654 - accuracy: 0.9298 - val_loss: 0.3192 - val_accuracy: 0.8717\n",
            "Epoch 10/10\n",
            "58/58 [==============================] - 2s 37ms/step - loss: 0.1611 - accuracy: 0.9320 - val_loss: 0.3037 - val_accuracy: 0.8783\n",
            "15/15 [==============================] - 0s 9ms/step - loss: 0.3037 - accuracy: 0.8783\n",
            "Validation Loss: 0.3036600649356842\n",
            "Validation Accuracy: 0.8782608509063721\n"
          ]
        }
      ],
      "source": [
        "import os\n",
        "import numpy as np\n",
        "import librosa\n",
        "from sklearn.model_selection import train_test_split\n",
        "\n",
        "# ... (the preprocess_audio and load_data functions remain the same)\n",
        "\n",
        "dataset_dir = \"/content/drive/MyDrive/speech\"\n",
        "train_dir = os.path.join(dataset_dir)\n",
        "x_data, y_data = load_data(train_dir)\n",
        "# Split the data into training and validation sets\n",
        "x_train, x_val, y_train, y_val = train_test_split(x_data, y_data, test_size=0.2, random_state=42)\n",
        "\n",
        "from keras.models import Sequential\n",
        "from keras.layers import Conv1D, MaxPooling1D, LSTM, Dense, Dropout, Flatten\n",
        "\n",
        "# Define the model\n",
        "model = Sequential([\n",
        "    Conv1D(filters=32, kernel_size=3, activation='relu', input_shape=(40, 500)),\n",
        "    MaxPooling1D(pool_size=2),\n",
        "    Conv1D(filters=64, kernel_size=3, activation='relu'),\n",
        "    MaxPooling1D(pool_size=2),\n",
        "    LSTM(units=64, return_sequences=True),\n",
        "    LSTM(units=64),\n",
        "    Dense(units=128, activation='relu'),\n",
        "    Dropout(rate=0.5),\n",
        "    Dense(units=1, activation='sigmoid')\n",
        "])\n",
        "\n",
        "# Compile the model\n",
        "model.compile(optimizer='adam', loss='binary_crossentropy', metrics=['accuracy'])\n",
        "\n",
        "# Train the model\n",
        "history = model.fit(x_train, y_train, epochs=10, batch_size=32, validation_data=(x_val, y_val))\n",
        "\n",
        "# Evaluate the model on the validation set\n",
        "val_loss, val_accuracy = model.evaluate(x_val, y_val)\n",
        "print(\"Validation Loss:\", val_loss)\n",
        "print(\"Validation Accuracy:\", val_accuracy)"
      ]
    },
    {
      "cell_type": "code",
      "execution_count": null,
      "metadata": {
        "colab": {
          "base_uri": "https://localhost:8080/",
          "height": 1000
        },
        "id": "zs5ZjCjpD-fT",
        "outputId": "dd969487-9d59-4719-ddef-9cee71791901"
      },
      "outputs": [
        {
          "data": {
            "image/png": "[encoded data removed]",
            "text/plain": [
              "<Figure size 640x480 with 1 Axes>"
            ]
          },
          "metadata": {},
          "output_type": "display_data"
        },
        {
          "name": "stdout",
          "output_type": "stream",
          "text": [
            "15/15 [==============================] - 2s 18ms/step\n"
          ]
        },
        {
          "data": {
            "image/png": "[encoded data removed]",
            "text/plain": [
              "<Figure size 800x600 with 2 Axes>"
            ]
          },
          "metadata": {},
          "output_type": "display_data"
        }
      ],
      "source": [
        "import matplotlib.pyplot as plt\n",
        "from sklearn.metrics import confusion_matrix\n",
        "import seaborn as sns\n",
        "\n",
        "# Plot epoch vs accuracy\n",
        "plt.figure()\n",
        "plt.plot(history.history['accuracy'])\n",
        "plt.plot(history.history['val_accuracy'])\n",
        "plt.title('Model Accuracy')\n",
        "plt.xlabel('Epoch')\n",
        "plt.ylabel('Accuracy')\n",
        "plt.legend(['Train', 'Validation'], loc='upper left')\n",
        "plt.show()\n",
        "\n",
        "# Compute predictions\n",
        "y_pred = model.predict(x_val)\n",
        "y_pred = (y_pred > 0.5)\n",
        "\n",
        "# Compute confusion matrix\n",
        "conf_mat = confusion_matrix(y_val, y_pred)\n",
        "\n",
        "# Plot confusion matrix\n",
        "plt.figure(figsize=(8, 6))\n",
        "sns.heatmap(conf_mat, annot=True, fmt='d', cmap='Blues')\n",
        "plt.title('Confusion Matrix')\n",
        "plt.xlabel('Predicted Labels')\n",
        "plt.ylabel('True Labels')\n",
        "plt.show()"
      ]
    },
    {
      "cell_type": "markdown",
      "metadata": {
        "id": "_aad2DvnLBfz"
      },
      "source": [
        "Test"
      ]
    },
    {
      "cell_type": "code",
      "execution_count": null,
      "metadata": {
        "colab": {
          "base_uri": "https://localhost:8080/"
        },
        "id": "WOBFfgMCAYOY",
        "outputId": "9c989136-79f5-4275-839d-267ac9254f53"
      },
      "outputs": [
        {
          "name": "stdout",
          "output_type": "stream",
          "text": [
            "1/1 [==============================] - 2s 2s/step\n",
            "Prediction: Real\n"
          ]
        }
      ],
      "source": [
        "import librosa\n",
        "import numpy as np\n",
        "\n",
        "def predict(audio_file_path, model, threshold=0.5):\n",
        "    # Preprocess the audio file\n",
        "    processed_audio = preprocess_audio(audio_file_path)\n",
        "    if processed_audio is not None:\n",
        "        # Reshape the input for the model\n",
        "        input_data = np.expand_dims(processed_audio, axis=0)\n",
        "        # Make predictions\n",
        "        prediction = model.predict(input_data)\n",
        "        # Determine class based on threshold\n",
        "        if prediction >= threshold:\n",
        "            return \"Fake\"\n",
        "        else:\n",
        "            return \"Real\"\n",
        "    else:\n",
        "        return None\n",
        "\n",
        "# Example usage\n",
        "audio_file_path = \"/content/drive/MyDrive/speech/aug_real/shifted_Athigama Asapatura Ambalayum.wav\"\n",
        "prediction = predict(audio_file_path, model)\n",
        "print(\"Prediction:\", prediction)"
      ]
    },
    {
      "cell_type": "markdown",
      "metadata": {
        "id": "1QB8MlS5Nc1J"
      },
      "source": [
        "Save Model"
      ]
    },
    {
      "cell_type": "code",
      "execution_count": null,
      "metadata": {
        "colab": {
          "base_uri": "https://localhost:8080/"
        },
        "id": "4XsdMympAw8R",
        "outputId": "4fbb4606-5a1e-4e12-ddf8-1b9a8cbd5b9d"
      },
      "outputs": [
        {
          "name": "stderr",
          "output_type": "stream",
          "text": [
            "/usr/local/lib/python3.10/dist-packages/keras/src/engine/training.py:3103: UserWarning: You are saving your model as an HDF5 file via `model.save()`. This file format is considered legacy. We recommend using instead the native Keras format, e.g. `model.save('my_model.keras')`.\n",
            "  saving_api.save_model(\n"
          ]
        }
      ],
      "source": [
        "# Save the model\n",
        "model.save(\"model.h5\")"
      ]
    }
  ],
  "metadata": {
    "colab": {
      "provenance": []
    },
    "kernelspec": {
      "display_name": "Python 3",
      "name": "python3"
    },
    "language_info": {
      "name": "python"
    }
  },
  "nbformat": 4,
  "nbformat_minor": 0
}